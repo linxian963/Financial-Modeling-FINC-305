{
 "cells": [
  {
   "cell_type": "markdown",
   "metadata": {},
   "source": [
    "## Section 1: Foundations of Python \n",
    "Financial modeling aims to use python programming to solve finance-related questions and build up models to explain return or risk. I asssume you may have some coding backgrounds in Econometrics or Investments, but it is still my job to help you to review basic concepts about the fundations of python. \\\n",
    "The fundamental logic of using python in finance world is simplifying the step that you may need to do multiple times. So the key idea before running a model is knowing how to solve this question in the first run. And that would be the fundations of Python we need to review or learn in this section. \\\n",
    "Python is a programming language, the most basic ways to type and run a python code in in the terminal. But it's too hard for a beginner to understand an apply, so that's why we need a \"developing environment\" to help us to simplify the coding environment. Jupyter Notbook is a effective tool to help you to run python codes. The financial modeling course fill practice and finish everything based on Jupyter Notebook and codings, including in-class activities, homework assignments, quizzes, exams and group project. \n"
   ]
  },
  {
   "cell_type": "code",
   "execution_count": 1,
   "metadata": {
    "ExecuteTime": {
     "end_time": "2024-12-12T21:41:45.591977Z",
     "start_time": "2024-12-12T21:41:45.589362Z"
    }
   },
   "outputs": [
    {
     "name": "stdout",
     "output_type": "stream",
     "text": [
      "hello world!\n"
     ]
    }
   ],
   "source": [
    "# add a hash (#) in your code cell can help you to add some explaination for the code, function or model you are about to apply. let's run the first code in our class.\n",
    "\n",
    "print(\"hello world!\")\n",
    "\n",
    "#the shortcut for running a code is shift+enter"
   ]
  },
  {
   "cell_type": "markdown",
   "metadata": {},
   "source": [
    "the most important things in pythong programming are setting variables, running a loop, defining a function, and set a class to save multiple functions. In my class, I will only focus on the first three. Let's try to understand different types of data and identify a variable first. "
   ]
  },
  {
   "cell_type": "code",
   "execution_count": null,
   "metadata": {},
   "outputs": [],
   "source": [
    "# Here, try to convert this cell to a markdown format. \n",
    "\n",
    "\n"
   ]
  },
  {
   "cell_type": "markdown",
   "metadata": {},
   "source": [
    "## Section 1.1 Data Types in Python\n",
    "Here is some definitions or importance of datat types in python. Below are some practice"
   ]
  },
  {
   "cell_type": "code",
   "execution_count": 2,
   "metadata": {
    "ExecuteTime": {
     "end_time": "2024-12-12T21:42:36.704416Z",
     "start_time": "2024-12-12T21:42:36.695910Z"
    }
   },
   "outputs": [
    {
     "data": {
      "text/plain": [
       "(2.4, 1.7999999999999998, 3.2, 0.25, 8.8)"
      ]
     },
     "execution_count": 2,
     "metadata": {},
     "output_type": "execute_result"
    }
   ],
   "source": [
    "# start with the most basic data type, number (intenger or int, and float) you can finish some very basic calculation without applying any package. \n",
    "\n",
    "a = 1\n",
    "b = 2.2\n",
    "c = 4\n",
    "avg = (a+b+c)/3\n",
    "sub = c - b\n",
    "add = a + b \n",
    "divide = a / c\n",
    "times = a * b * c\n",
    "\n",
    "avg, sub, add, divide, times"
   ]
  },
  {
   "cell_type": "code",
   "execution_count": 3,
   "metadata": {
    "ExecuteTime": {
     "end_time": "2024-12-12T21:42:45.692723Z",
     "start_time": "2024-12-12T21:42:45.689896Z"
    }
   },
   "outputs": [
    {
     "data": {
      "text/plain": [
       "('APPLE', 'NVIDIA')"
      ]
     },
     "execution_count": 3,
     "metadata": {},
     "output_type": "execute_result"
    }
   ],
   "source": [
    "#For financial data, we may interested in the historical return of a specific firm. Then we need to save the firm's name or ticker, then save historical data. \"str\" is the data type for the firm's name \n",
    "\n",
    "aapl = \"APPLE\"\n",
    "nvda = \"NVIDIA\"\n",
    "\n",
    "aapl, nvda"
   ]
  },
  {
   "cell_type": "code",
   "execution_count": null,
   "metadata": {},
   "outputs": [],
   "source": [
    "## here is your practice: try to run the code \"a + aapl\" in this cell. What't the result you can see? What't the reason?\n",
    "\n",
    "\n",
    "\n",
    "\n",
    "\n",
    "\n"
   ]
  },
  {
   "cell_type": "code",
   "execution_count": 4,
   "metadata": {
    "ExecuteTime": {
     "end_time": "2024-12-12T21:43:08.948367Z",
     "start_time": "2024-12-12T21:43:08.945888Z"
    }
   },
   "outputs": [],
   "source": [
    "# for the historical return of apple, you may not only interested in the return in a specific day, so you may need to apply a list to save all the data you need. \n",
    "\n",
    "returns = [0.02, -0.31, 0.05, 0.01, 0.01, 0]\n"
   ]
  },
  {
   "cell_type": "code",
   "execution_count": null,
   "metadata": {},
   "outputs": [],
   "source": [
    "#Practice: try to identify a new list with both \"float\" and \"str\" data type in it. Is that any error code come out? Explain and conclude your finding. \n",
    "\n",
    "\n",
    "\n",
    "\n",
    "\n"
   ]
  },
  {
   "cell_type": "code",
   "execution_count": null,
   "metadata": {},
   "outputs": [],
   "source": [
    "# if you want to save a more complex data, dictionary can be your choice\n",
    "\n",
    "\n"
   ]
  }
 ],
 "metadata": {
  "kernelspec": {
   "display_name": "Python 3",
   "language": "python",
   "name": "python3"
  },
  "language_info": {
   "codemirror_mode": {
    "name": "ipython",
    "version": 3
   },
   "file_extension": ".py",
   "mimetype": "text/x-python",
   "name": "python",
   "nbconvert_exporter": "python",
   "pygments_lexer": "ipython3",
   "version": "3.8.5"
  }
 },
 "nbformat": 4,
 "nbformat_minor": 5
}
